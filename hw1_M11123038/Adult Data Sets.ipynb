{
 "cells": [
  {
   "cell_type": "code",
   "execution_count": 3,
   "id": "dac4e4bc",
   "metadata": {},
   "outputs": [],
   "source": [
    "import numpy as np\n",
    "import pandas as pd\n",
    "from sklearn import tree\n",
    "import matplotlib.pyplot as plt\n",
    "import seaborn as sns\n",
    "from sklearn.preprocessing import MinMaxScaler\n",
    "from sklearn.model_selection import train_test_split\n",
    "from sklearn.tree import DecisionTreeClassifier"
   ]
  },
  {
   "cell_type": "code",
   "execution_count": 4,
   "id": "67fcf5e1",
   "metadata": {},
   "outputs": [
    {
     "name": "stderr",
     "output_type": "stream",
     "text": [
      "C:\\Users\\User\\AppData\\Local\\Temp\\ipykernel_24124\\2541535838.py:4: FutureWarning: The frame.append method is deprecated and will be removed from pandas in a future version. Use pandas.concat instead.\n",
      "  df = data.append(test) #合併\n"
     ]
    }
   ],
   "source": [
    "data = pd.read_csv('data.csv',na_values = '?')\n",
    "#對資料中的'?'進行NAN處理\n",
    "test = pd.read_csv('test.csv',na_values = '?')\n",
    "df = data.append(test) #合併"
   ]
  },
  {
   "cell_type": "code",
   "execution_count": 5,
   "id": "a8d728c3",
   "metadata": {},
   "outputs": [],
   "source": [
    "df.reset_index(inplace=True, drop=True)\n",
    "#重新排列序號\n",
    "df.dropna(axis=0, how='any', inplace=True)  #處理缺失值\n",
    "df.describe(include='all')\n",
    "#print(len(df)) #刪除缺失值後的資料筆數\n",
    "df = df.drop(columns=['fnlwgt','education-num','relationship','capital-gain','capital-loss','native-country'])\n",
    "#資料預處理刪除不需要的欄位"
   ]
  },
  {
   "cell_type": "code",
   "execution_count": 6,
   "id": "725d45fb",
   "metadata": {},
   "outputs": [],
   "source": [
    "pd.get_dummies(df['workclass']) #one-hot處理\n",
    "onehot_encoding_workclass = pd.get_dummies(df['workclass'], prefix = 'workclass')"
   ]
  },
  {
   "cell_type": "code",
   "execution_count": 7,
   "id": "dff140c6",
   "metadata": {},
   "outputs": [],
   "source": [
    "df = pd.concat([onehot_encoding_workclass, df], axis=1)"
   ]
  },
  {
   "cell_type": "code",
   "execution_count": 8,
   "id": "f9a13af5",
   "metadata": {},
   "outputs": [],
   "source": [
    "pd.get_dummies(df['race'])\n",
    "onehot_encoding_race = pd.get_dummies(df['race'], prefix = 'race')"
   ]
  },
  {
   "cell_type": "code",
   "execution_count": 9,
   "id": "d39a9865",
   "metadata": {},
   "outputs": [],
   "source": [
    "df = pd.concat([onehot_encoding_race, df], axis=1)"
   ]
  },
  {
   "cell_type": "code",
   "execution_count": 10,
   "id": "ac23054c",
   "metadata": {},
   "outputs": [],
   "source": [
    "educationMapping = {            #ordinal排序\n",
    "              'Doctorate': 16,\n",
    "              'Masters': 15,\n",
    "              'Bachelors': 14,\n",
    "              'Some-college': 13,\n",
    "              'Assoc-voc': 12,\n",
    "              'Assoc-acdm': 11,\n",
    "              'Prof-school': 10,\n",
    "              'HS-grad': 9,\n",
    "              '12th': 8,\n",
    "              '11th': 7,\n",
    "              '10th': 6,\n",
    "              '9th': 5,\n",
    "              '7th-8th': 4,\n",
    "              '5th-6th': 3,\n",
    "              '1st-4th': 2,\n",
    "              'Preschool': 1\n",
    "}\n",
    "df['education'] = df['education'].map(educationMapping)"
   ]
  },
  {
   "cell_type": "code",
   "execution_count": 11,
   "id": "2fc7a80b",
   "metadata": {},
   "outputs": [],
   "source": [
    "maritalstatusMapping = {            #維度過多因此這裡名目型直接做排序\n",
    "              'Married-civ-spouse': 6,\n",
    "              'Divorced': 5,\n",
    "              'Never-married': 4,\n",
    "              'Separated': 3,\n",
    "              'Widowed': 2,\n",
    "              'Married-spouse-absent': 1,\n",
    "              'Married-AF-spouse': 0\n",
    "}\n",
    "df['marital-status'] = df['marital-status'].map(maritalstatusMapping)"
   ]
  },
  {
   "cell_type": "code",
   "execution_count": 12,
   "id": "f1c82181",
   "metadata": {},
   "outputs": [],
   "source": [
    "occupationMapping = {            #維度過多因此這裡名目型直接做排序\n",
    "              'Prof-specialty': 13,\n",
    "              'Craft-repair': 12,\n",
    "              'Exec-managerial': 11,\n",
    "              'Adm-clerical': 10,\n",
    "              'Sales': 9,\n",
    "              'Other-service': 8,\n",
    "              'Machine-op-inspct': 7,\n",
    "              'Transport-moving': 6,\n",
    "              'Handlers-cleaners': 5,\n",
    "              'Farming-fishing': 4,\n",
    "              'Tech-support': 3,\n",
    "              'Protective-serv': 2,\n",
    "              'Priv-house-serv': 1,\n",
    "              'Armed-Forces': 0\n",
    "}\n",
    "df['occupation'] = df['occupation'].map(occupationMapping)"
   ]
  },
  {
   "cell_type": "code",
   "execution_count": 13,
   "id": "36aef657",
   "metadata": {},
   "outputs": [],
   "source": [
    "sexMapping = {            #二元類別也直接做排序\n",
    "              'Male': 1,\n",
    "              'Female': 0\n",
    "}\n",
    "df['sex'] = df['sex'].map(sexMapping)"
   ]
  },
  {
   "cell_type": "code",
   "execution_count": 14,
   "id": "4da0d3ae",
   "metadata": {},
   "outputs": [],
   "source": [
    "incomeMapping = {            #class attribute\n",
    "              '>50K': 1,\n",
    "              '>50K.' : 1,\n",
    "              '<=50K': 0,\n",
    "              '<=50K.' : 0\n",
    "}\n",
    "df['class_annual_income'] = df['class_annual_income'].map(incomeMapping)"
   ]
  },
  {
   "cell_type": "code",
   "execution_count": 15,
   "id": "4f681e90",
   "metadata": {},
   "outputs": [
    {
     "data": {
      "text/plain": [
       "<Figure size 1500x1000 with 0 Axes>"
      ]
     },
     "metadata": {},
     "output_type": "display_data"
    },
    {
     "data": {
      "image/png": "[encoded data removed]",
      "text/plain": [
       "<Figure size 500x500 with 1 Axes>"
      ]
     },
     "metadata": {},
     "output_type": "display_data"
    }
   ],
   "source": [
    "plt.figure(figsize=(15,10))  #連續型屬性數據圖像化\n",
    "sns.displot(df['age'])\n",
    "plt.show()"
   ]
  },
  {
   "cell_type": "code",
   "execution_count": 16,
   "id": "dae28b7c",
   "metadata": {},
   "outputs": [],
   "source": [
    "ageList = df['age'].tolist()  #將年齡分成三個區間\n",
    "bins = [18,36,64,90]\n",
    "age_cut = pd.cut(ageList, bins, labels=['young_adult', 'middle_age', 'senior'])\n",
    "df['age'] = age_cut"
   ]
  },
  {
   "cell_type": "code",
   "execution_count": 17,
   "id": "37820f10",
   "metadata": {},
   "outputs": [],
   "source": [
    "ageMapping = {\n",
    "              'young_adult': 3,\n",
    "              'middle_age': 2,\n",
    "              'senior': 1\n",
    "}\n",
    "df['age'] = df['age'].map(ageMapping)"
   ]
  },
  {
   "cell_type": "code",
   "execution_count": 18,
   "id": "ba602920",
   "metadata": {},
   "outputs": [
    {
     "data": {
      "text/plain": [
       "<Figure size 1500x1000 with 0 Axes>"
      ]
     },
     "metadata": {},
     "output_type": "display_data"
    },
    {
     "data": {
      "image/png": "[encoded data removed]",
      "text/plain": [
       "<Figure size 500x500 with 1 Axes>"
      ]
     },
     "metadata": {},
     "output_type": "display_data"
    }
   ],
   "source": [
    "plt.figure(figsize=(15,10))  #連續型屬性數據圖像化\n",
    "sns.displot(df['hours-per-week'])\n",
    "plt.show()"
   ]
  },
  {
   "cell_type": "code",
   "execution_count": 19,
   "id": "a36f4669",
   "metadata": {},
   "outputs": [],
   "source": [
    "hoursList = df['hours-per-week'].tolist()\n",
    "bins = [0,39.5,40.5,100]\n",
    "hours_cut = pd.cut(hoursList, bins, labels=['lessthan40', '40', 'morethan40'])\n",
    "df['hours-per-week'] = hours_cut"
   ]
  },
  {
   "cell_type": "code",
   "execution_count": 20,
   "id": "99adeb14",
   "metadata": {},
   "outputs": [],
   "source": [
    "hoursMapping = {\n",
    "              'lessthan40': 3,\n",
    "              '40': 2,\n",
    "              'morethan40': 1\n",
    "}\n",
    "df['hours-per-week'] = df['hours-per-week'].map(hoursMapping)"
   ]
  },
  {
   "cell_type": "code",
   "execution_count": 21,
   "id": "32ecb2fd",
   "metadata": {},
   "outputs": [],
   "source": [
    "df = df.drop(columns=['race','workclass'])"
   ]
  },
  {
   "cell_type": "code",
   "execution_count": 22,
   "id": "67f9bb2f",
   "metadata": {
    "scrolled": true
   },
   "outputs": [
    {
     "data": {
      "text/html": [
       "<div>\n",
       "<style scoped>\n",
       "    .dataframe tbody tr th:only-of-type {\n",
       "        vertical-align: middle;\n",
       "    }\n",
       "\n",
       "    .dataframe tbody tr th {\n",
       "        vertical-align: top;\n",
       "    }\n",
       "\n",
       "    .dataframe thead th {\n",
       "        text-align: right;\n",
       "    }\n",
       "</style>\n",
       "<table border=\"1\" class=\"dataframe\">\n",
       "  <thead>\n",
       "    <tr style=\"text-align: right;\">\n",
       "      <th></th>\n",
       "      <th>race_Amer-Indian-Eskimo</th>\n",
       "      <th>race_Asian-Pac-Islander</th>\n",
       "      <th>race_Black</th>\n",
       "      <th>race_Other</th>\n",
       "      <th>race_White</th>\n",
       "      <th>workclass_Federal-gov</th>\n",
       "      <th>workclass_Local-gov</th>\n",
       "      <th>workclass_Private</th>\n",
       "      <th>workclass_Self-emp-inc</th>\n",
       "      <th>workclass_Self-emp-not-inc</th>\n",
       "      <th>workclass_State-gov</th>\n",
       "      <th>workclass_Without-pay</th>\n",
       "      <th>age</th>\n",
       "      <th>education</th>\n",
       "      <th>marital-status</th>\n",
       "      <th>occupation</th>\n",
       "      <th>sex</th>\n",
       "      <th>hours-per-week</th>\n",
       "      <th>class_annual_income</th>\n",
       "    </tr>\n",
       "  </thead>\n",
       "  <tbody>\n",
       "    <tr>\n",
       "      <th>0</th>\n",
       "      <td>0</td>\n",
       "      <td>0</td>\n",
       "      <td>0</td>\n",
       "      <td>0</td>\n",
       "      <td>1</td>\n",
       "      <td>0</td>\n",
       "      <td>0</td>\n",
       "      <td>0</td>\n",
       "      <td>0</td>\n",
       "      <td>0</td>\n",
       "      <td>1</td>\n",
       "      <td>0</td>\n",
       "      <td>2</td>\n",
       "      <td>14</td>\n",
       "      <td>4</td>\n",
       "      <td>10</td>\n",
       "      <td>1</td>\n",
       "      <td>2</td>\n",
       "      <td>0</td>\n",
       "    </tr>\n",
       "    <tr>\n",
       "      <th>1</th>\n",
       "      <td>0</td>\n",
       "      <td>0</td>\n",
       "      <td>0</td>\n",
       "      <td>0</td>\n",
       "      <td>1</td>\n",
       "      <td>0</td>\n",
       "      <td>0</td>\n",
       "      <td>0</td>\n",
       "      <td>0</td>\n",
       "      <td>1</td>\n",
       "      <td>0</td>\n",
       "      <td>0</td>\n",
       "      <td>2</td>\n",
       "      <td>14</td>\n",
       "      <td>6</td>\n",
       "      <td>11</td>\n",
       "      <td>1</td>\n",
       "      <td>3</td>\n",
       "      <td>0</td>\n",
       "    </tr>\n",
       "    <tr>\n",
       "      <th>2</th>\n",
       "      <td>0</td>\n",
       "      <td>0</td>\n",
       "      <td>0</td>\n",
       "      <td>0</td>\n",
       "      <td>1</td>\n",
       "      <td>0</td>\n",
       "      <td>0</td>\n",
       "      <td>1</td>\n",
       "      <td>0</td>\n",
       "      <td>0</td>\n",
       "      <td>0</td>\n",
       "      <td>0</td>\n",
       "      <td>2</td>\n",
       "      <td>9</td>\n",
       "      <td>5</td>\n",
       "      <td>5</td>\n",
       "      <td>1</td>\n",
       "      <td>2</td>\n",
       "      <td>0</td>\n",
       "    </tr>\n",
       "    <tr>\n",
       "      <th>3</th>\n",
       "      <td>0</td>\n",
       "      <td>0</td>\n",
       "      <td>1</td>\n",
       "      <td>0</td>\n",
       "      <td>0</td>\n",
       "      <td>0</td>\n",
       "      <td>0</td>\n",
       "      <td>1</td>\n",
       "      <td>0</td>\n",
       "      <td>0</td>\n",
       "      <td>0</td>\n",
       "      <td>0</td>\n",
       "      <td>2</td>\n",
       "      <td>7</td>\n",
       "      <td>6</td>\n",
       "      <td>5</td>\n",
       "      <td>1</td>\n",
       "      <td>2</td>\n",
       "      <td>0</td>\n",
       "    </tr>\n",
       "    <tr>\n",
       "      <th>4</th>\n",
       "      <td>0</td>\n",
       "      <td>0</td>\n",
       "      <td>1</td>\n",
       "      <td>0</td>\n",
       "      <td>0</td>\n",
       "      <td>0</td>\n",
       "      <td>0</td>\n",
       "      <td>1</td>\n",
       "      <td>0</td>\n",
       "      <td>0</td>\n",
       "      <td>0</td>\n",
       "      <td>0</td>\n",
       "      <td>3</td>\n",
       "      <td>14</td>\n",
       "      <td>6</td>\n",
       "      <td>13</td>\n",
       "      <td>0</td>\n",
       "      <td>2</td>\n",
       "      <td>0</td>\n",
       "    </tr>\n",
       "    <tr>\n",
       "      <th>...</th>\n",
       "      <td>...</td>\n",
       "      <td>...</td>\n",
       "      <td>...</td>\n",
       "      <td>...</td>\n",
       "      <td>...</td>\n",
       "      <td>...</td>\n",
       "      <td>...</td>\n",
       "      <td>...</td>\n",
       "      <td>...</td>\n",
       "      <td>...</td>\n",
       "      <td>...</td>\n",
       "      <td>...</td>\n",
       "      <td>...</td>\n",
       "      <td>...</td>\n",
       "      <td>...</td>\n",
       "      <td>...</td>\n",
       "      <td>...</td>\n",
       "      <td>...</td>\n",
       "      <td>...</td>\n",
       "    </tr>\n",
       "    <tr>\n",
       "      <th>48836</th>\n",
       "      <td>0</td>\n",
       "      <td>0</td>\n",
       "      <td>0</td>\n",
       "      <td>0</td>\n",
       "      <td>1</td>\n",
       "      <td>0</td>\n",
       "      <td>0</td>\n",
       "      <td>1</td>\n",
       "      <td>0</td>\n",
       "      <td>0</td>\n",
       "      <td>0</td>\n",
       "      <td>0</td>\n",
       "      <td>3</td>\n",
       "      <td>14</td>\n",
       "      <td>4</td>\n",
       "      <td>13</td>\n",
       "      <td>1</td>\n",
       "      <td>2</td>\n",
       "      <td>0</td>\n",
       "    </tr>\n",
       "    <tr>\n",
       "      <th>48837</th>\n",
       "      <td>0</td>\n",
       "      <td>0</td>\n",
       "      <td>0</td>\n",
       "      <td>0</td>\n",
       "      <td>1</td>\n",
       "      <td>0</td>\n",
       "      <td>0</td>\n",
       "      <td>1</td>\n",
       "      <td>0</td>\n",
       "      <td>0</td>\n",
       "      <td>0</td>\n",
       "      <td>0</td>\n",
       "      <td>2</td>\n",
       "      <td>14</td>\n",
       "      <td>5</td>\n",
       "      <td>13</td>\n",
       "      <td>0</td>\n",
       "      <td>3</td>\n",
       "      <td>0</td>\n",
       "    </tr>\n",
       "    <tr>\n",
       "      <th>48839</th>\n",
       "      <td>0</td>\n",
       "      <td>0</td>\n",
       "      <td>0</td>\n",
       "      <td>0</td>\n",
       "      <td>1</td>\n",
       "      <td>0</td>\n",
       "      <td>0</td>\n",
       "      <td>1</td>\n",
       "      <td>0</td>\n",
       "      <td>0</td>\n",
       "      <td>0</td>\n",
       "      <td>0</td>\n",
       "      <td>2</td>\n",
       "      <td>14</td>\n",
       "      <td>6</td>\n",
       "      <td>13</td>\n",
       "      <td>1</td>\n",
       "      <td>1</td>\n",
       "      <td>0</td>\n",
       "    </tr>\n",
       "    <tr>\n",
       "      <th>48840</th>\n",
       "      <td>0</td>\n",
       "      <td>1</td>\n",
       "      <td>0</td>\n",
       "      <td>0</td>\n",
       "      <td>0</td>\n",
       "      <td>0</td>\n",
       "      <td>0</td>\n",
       "      <td>1</td>\n",
       "      <td>0</td>\n",
       "      <td>0</td>\n",
       "      <td>0</td>\n",
       "      <td>0</td>\n",
       "      <td>2</td>\n",
       "      <td>14</td>\n",
       "      <td>5</td>\n",
       "      <td>10</td>\n",
       "      <td>1</td>\n",
       "      <td>2</td>\n",
       "      <td>0</td>\n",
       "    </tr>\n",
       "    <tr>\n",
       "      <th>48841</th>\n",
       "      <td>0</td>\n",
       "      <td>0</td>\n",
       "      <td>0</td>\n",
       "      <td>0</td>\n",
       "      <td>1</td>\n",
       "      <td>0</td>\n",
       "      <td>0</td>\n",
       "      <td>0</td>\n",
       "      <td>1</td>\n",
       "      <td>0</td>\n",
       "      <td>0</td>\n",
       "      <td>0</td>\n",
       "      <td>3</td>\n",
       "      <td>14</td>\n",
       "      <td>6</td>\n",
       "      <td>11</td>\n",
       "      <td>1</td>\n",
       "      <td>1</td>\n",
       "      <td>1</td>\n",
       "    </tr>\n",
       "  </tbody>\n",
       "</table>\n",
       "<p>45222 rows × 19 columns</p>\n",
       "</div>"
      ],
      "text/plain": [
       "       race_Amer-Indian-Eskimo  race_Asian-Pac-Islander  race_Black  \\\n",
       "0                            0                        0           0   \n",
       "1                            0                        0           0   \n",
       "2                            0                        0           0   \n",
       "3                            0                        0           1   \n",
       "4                            0                        0           1   \n",
       "...                        ...                      ...         ...   \n",
       "48836                        0                        0           0   \n",
       "48837                        0                        0           0   \n",
       "48839                        0                        0           0   \n",
       "48840                        0                        1           0   \n",
       "48841                        0                        0           0   \n",
       "\n",
       "       race_Other  race_White  workclass_Federal-gov  workclass_Local-gov  \\\n",
       "0               0           1                      0                    0   \n",
       "1               0           1                      0                    0   \n",
       "2               0           1                      0                    0   \n",
       "3               0           0                      0                    0   \n",
       "4               0           0                      0                    0   \n",
       "...           ...         ...                    ...                  ...   \n",
       "48836           0           1                      0                    0   \n",
       "48837           0           1                      0                    0   \n",
       "48839           0           1                      0                    0   \n",
       "48840           0           0                      0                    0   \n",
       "48841           0           1                      0                    0   \n",
       "\n",
       "       workclass_Private  workclass_Self-emp-inc  workclass_Self-emp-not-inc  \\\n",
       "0                      0                       0                           0   \n",
       "1                      0                       0                           1   \n",
       "2                      1                       0                           0   \n",
       "3                      1                       0                           0   \n",
       "4                      1                       0                           0   \n",
       "...                  ...                     ...                         ...   \n",
       "48836                  1                       0                           0   \n",
       "48837                  1                       0                           0   \n",
       "48839                  1                       0                           0   \n",
       "48840                  1                       0                           0   \n",
       "48841                  0                       1                           0   \n",
       "\n",
       "       workclass_State-gov  workclass_Without-pay age  education  \\\n",
       "0                        1                      0   2         14   \n",
       "1                        0                      0   2         14   \n",
       "2                        0                      0   2          9   \n",
       "3                        0                      0   2          7   \n",
       "4                        0                      0   3         14   \n",
       "...                    ...                    ...  ..        ...   \n",
       "48836                    0                      0   3         14   \n",
       "48837                    0                      0   2         14   \n",
       "48839                    0                      0   2         14   \n",
       "48840                    0                      0   2         14   \n",
       "48841                    0                      0   3         14   \n",
       "\n",
       "       marital-status  occupation  sex hours-per-week  class_annual_income  \n",
       "0                   4          10    1              2                    0  \n",
       "1                   6          11    1              3                    0  \n",
       "2                   5           5    1              2                    0  \n",
       "3                   6           5    1              2                    0  \n",
       "4                   6          13    0              2                    0  \n",
       "...               ...         ...  ...            ...                  ...  \n",
       "48836               4          13    1              2                    0  \n",
       "48837               5          13    0              3                    0  \n",
       "48839               6          13    1              1                    0  \n",
       "48840               5          10    1              2                    0  \n",
       "48841               6          11    1              1                    1  \n",
       "\n",
       "[45222 rows x 19 columns]"
      ]
     },
     "execution_count": 22,
     "metadata": {},
     "output_type": "execute_result"
    }
   ],
   "source": [
    "df"
   ]
  },
  {
   "cell_type": "code",
   "execution_count": 23,
   "id": "034a4274",
   "metadata": {},
   "outputs": [],
   "source": [
    "all_of_columns = list(df.columns)\n",
    "features = all_of_columns[:-1]\n",
    "target = df['class_annual_income']\n",
    "feature_df = df[features]"
   ]
  },
  {
   "cell_type": "code",
   "execution_count": 24,
   "id": "170821b8",
   "metadata": {},
   "outputs": [
    {
     "name": "stdout",
     "output_type": "stream",
     "text": [
      "(36177, 18) (36177,) (9045, 18) (9045,)\n"
     ]
    }
   ],
   "source": [
    "X_train, X_test, y_train, y_test = train_test_split(feature_df, target, test_size=0.2)\n",
    "print(X_train.shape,y_train.shape, X_test.shape, y_test.shape)\n",
    "clf=tree.DecisionTreeClassifier(criterion='entropy', max_depth=8, ccp_alpha=0.001).fit(X_train,y_train)"
   ]
  },
  {
   "cell_type": "code",
   "execution_count": 25,
   "id": "4bf916cf",
   "metadata": {},
   "outputs": [
    {
     "data": {
      "text/plain": [
       "{'ccp_alpha': 0.001,\n",
       " 'class_weight': None,\n",
       " 'criterion': 'entropy',\n",
       " 'max_depth': 8,\n",
       " 'max_features': None,\n",
       " 'max_leaf_nodes': None,\n",
       " 'min_impurity_decrease': 0.0,\n",
       " 'min_samples_leaf': 1,\n",
       " 'min_samples_split': 2,\n",
       " 'min_weight_fraction_leaf': 0.0,\n",
       " 'random_state': None,\n",
       " 'splitter': 'best'}"
      ]
     },
     "execution_count": 25,
     "metadata": {},
     "output_type": "execute_result"
    }
   ],
   "source": [
    "clf.get_params()"
   ]
  },
  {
   "cell_type": "code",
   "execution_count": 26,
   "id": "55ec3bbd",
   "metadata": {},
   "outputs": [],
   "source": [
    "predictions = clf.predict(X_test)\n",
    "feature_names = feature_df.columns"
   ]
  },
  {
   "cell_type": "code",
   "execution_count": 27,
   "id": "87644ad8",
   "metadata": {},
   "outputs": [
    {
     "data": {
      "text/plain": [
       "<AxesSubplot:>"
      ]
     },
     "execution_count": 27,
     "metadata": {},
     "output_type": "execute_result"
    },
    {
     "data": {
      "image/png": "[encoded data removed]",
      "text/plain": [
       "<Figure size 640x480 with 1 Axes>"
      ]
     },
     "metadata": {},
     "output_type": "display_data"
    }
   ],
   "source": [
    "#檢視重要程度\n",
    "feature_importance = pd.DataFrame(clf.feature_importances_,index = feature_names)\n",
    "feature_importance.plot(kind='bar')"
   ]
  },
  {
   "cell_type": "code",
   "execution_count": 28,
   "id": "06090709",
   "metadata": {},
   "outputs": [
    {
     "data": {
      "text/plain": [
       "0.8261049838295049"
      ]
     },
     "execution_count": 28,
     "metadata": {},
     "output_type": "execute_result"
    }
   ],
   "source": [
    "clf.score(X_train,y_train)  #訓練集準確度"
   ]
  },
  {
   "cell_type": "code",
   "execution_count": 29,
   "id": "941927ce",
   "metadata": {},
   "outputs": [
    {
     "data": {
      "text/plain": [
       "0.8271973466003317"
      ]
     },
     "execution_count": 29,
     "metadata": {},
     "output_type": "execute_result"
    }
   ],
   "source": [
    "clf.score(X_test,y_test)    #測試集準確度"
   ]
  },
  {
   "cell_type": "code",
   "execution_count": 30,
   "id": "a6b45707",
   "metadata": {},
   "outputs": [],
   "source": [
    "df1=df['class_annual_income']\n",
    "xlable=df.drop(['class_annual_income'],axis=1)"
   ]
  },
  {
   "cell_type": "code",
   "execution_count": 31,
   "id": "ad24a139",
   "metadata": {},
   "outputs": [],
   "source": [
    "x=xlable\n",
    "y=df1"
   ]
  },
  {
   "cell_type": "code",
   "execution_count": 32,
   "id": "44d18b81",
   "metadata": {},
   "outputs": [
    {
     "data": {
      "image/png": "[encoded data removed]",
      "text/plain": [
       "<Figure size 640x480 with 1 Axes>"
      ]
     },
     "metadata": {},
     "output_type": "display_data"
    }
   ],
   "source": [
    "clf.fit(x,y)\n",
    "plt.figsize=(12,12)\n",
    "tree.plot_tree(clf, fontsize=6)\n",
    "plt.show()"
   ]
  },
  {
   "cell_type": "code",
   "execution_count": 33,
   "id": "b656f4af",
   "metadata": {},
   "outputs": [
    {
     "name": "stdout",
     "output_type": "stream",
     "text": [
      "1563\n"
     ]
    }
   ],
   "source": [
    "error = 0\n",
    "for i, v in enumerate(predictions):\n",
    "    if v!= y_test.values[i]:\n",
    "        error+=1\n",
    "print(error)  #測試結果的錯誤數\n",
    "\n",
    "answer = y_test.values\n",
    "\n",
    "clf_prediction = []\n",
    "for j in predictions:\n",
    "    clf_prediction.append('%d' % j)\n",
    "    \n",
    "clf_prediction = np.array(clf_prediction)"
   ]
  },
  {
   "cell_type": "code",
   "execution_count": 34,
   "id": "12c903bb",
   "metadata": {},
   "outputs": [],
   "source": [
    "y_answer = pd.Series(answer, name='answer')\n",
    "y_prediction = pd.Series(clf_prediction, name='predict')\n",
    "\n",
    "#將正確結果和預測結果合併\n",
    "result = pd.DataFrame(y_answer).join(y_prediction)\n",
    "\n",
    "test_result = 'Adult.test_result.xlsx'\n",
    "  \n",
    "#匯入excel\n",
    "result.to_excel(test_result)"
   ]
  }
 ],
 "metadata": {
  "kernelspec": {
   "display_name": "Python 3 (ipykernel)",
   "language": "python",
   "name": "python3"
  },
  "language_info": {
   "codemirror_mode": {
    "name": "ipython",
    "version": 3
   },
   "file_extension": ".py",
   "mimetype": "text/x-python",
   "name": "python",
   "nbconvert_exporter": "python",
   "pygments_lexer": "ipython3",
   "version": "3.10.6"
  }
 },
 "nbformat": 4,
 "nbformat_minor": 5
}
